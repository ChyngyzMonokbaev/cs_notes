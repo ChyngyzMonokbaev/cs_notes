{
 "cells": [
  {
   "cell_type": "markdown",
   "metadata": {},
   "source": [
    "# Cyclic Sort\n",
    "\n",
    "<img src=\"../assets/cycle.png\" width=800>\n",
    "<img src=\"../assets/cycle1.png\" width=800>\n",
    "<img src=\"../assets/cycle2.png\" width=800>\n",
    "<img src=\"../assets/cycle3.png\" width=800>\n",
    "<img src=\"../assets/cycle4.png\" width=800>\n",
    "<img src=\"../assets/cycle5.png\" width=800>"
   ]
  },
  {
   "cell_type": "code",
   "execution_count": null,
   "metadata": {},
   "outputs": [],
   "source": [
    "def cyclic_sort(nums):\n",
    "  i = 0\n",
    "  while i < len(nums):\n",
    "    j = nums[i] - 1\n",
    "    if nums[i] != nums[j]:\n",
    "      nums[i], nums[j] = nums[j], nums[i]  # swap\n",
    "    else:\n",
    "      i += 1\n",
    "  return nums\n",
    "\n",
    "\n",
    "def main():\n",
    "  print(cyclic_sort([3, 1, 5, 4, 2]))\n",
    "  print(cyclic_sort([2, 6, 4, 3, 1, 5]))\n",
    "  print(cyclic_sort([1, 5, 6, 4, 3, 2]))\n",
    "\n",
    "\n",
    "main()"
   ]
  },
  {
   "cell_type": "markdown",
   "metadata": {},
   "source": [
    "## Find the Missing Number (easy)\n",
    "\n",
    "<img src=\"../assets/cycle6.png\" width=800>\n",
    "<img src=\"../assets/cycle7.png\" width=800>\n",
    "<img src=\"../assets/cycle8.png\" width=800>"
   ]
  },
  {
   "cell_type": "code",
   "execution_count": null,
   "metadata": {},
   "outputs": [],
   "source": [
    "def find_missing_number(nums):\n",
    "  i, n = 0, len(nums)\n",
    "  while i < n:\n",
    "    j = nums[i]\n",
    "    if nums[i] < n and nums[i] != nums[j]:\n",
    "      nums[i], nums[j] = nums[j], nums[i]  # swap\n",
    "    else:\n",
    "      i += 1\n",
    "\n",
    "  # find the first number missing from its index, that will be our required number\n",
    "  for i in range(n):\n",
    "    if nums[i] != i:\n",
    "      return i\n",
    "\n",
    "  return n\n",
    "\n",
    "\n",
    "def main():\n",
    "  print(find_missing_number([4, 0, 3, 1]))\n",
    "  print(find_missing_number([8, 3, 5, 2, 4, 6, 0, 1]))\n",
    "\n",
    "\n",
    "main()"
   ]
  }
 ],
 "metadata": {
  "kernelspec": {
   "display_name": "Python 3",
   "language": "python",
   "name": "python3"
  },
  "language_info": {
   "codemirror_mode": {
    "name": "ipython",
    "version": 3
   },
   "file_extension": ".py",
   "mimetype": "text/x-python",
   "name": "python",
   "nbconvert_exporter": "python",
   "pygments_lexer": "ipython3",
   "version": "3.7.6"
  }
 },
 "nbformat": 4,
 "nbformat_minor": 4
}
